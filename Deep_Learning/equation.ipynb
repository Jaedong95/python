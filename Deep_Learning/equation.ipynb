{
 "cells": [
  {
   "cell_type": "code",
   "execution_count": 7,
   "id": "b296d209",
   "metadata": {
    "scrolled": true
   },
   "outputs": [],
   "source": [
    "from sympy import Symbol, solve\n",
    "import numpy as np\n",
    "import sympy"
   ]
  },
  {
   "cell_type": "raw",
   "id": "04e18959",
   "metadata": {},
   "source": [
    "f(x): w2x2**2 + w1x1 + w0  (변수: x2, x1, y)\n",
    "error(x): (f(x) - y)**2"
   ]
  },
  {
   "cell_type": "markdown",
   "id": "47fde7cd",
   "metadata": {},
   "source": [
    "#### 변수 선언"
   ]
  },
  {
   "cell_type": "raw",
   "id": "3b889b6c",
   "metadata": {},
   "source": [
    "w2 = np.random.randint(1, 10)\n",
    "w1 = np.random.randint(1, 5)\n",
    "w0 = np.random.randint(1, 3)"
   ]
  },
  {
   "cell_type": "code",
   "execution_count": 2,
   "id": "81275a92",
   "metadata": {},
   "outputs": [],
   "source": [
    "w2 = Symbol('w2')\n",
    "w1 = Symbol('w1')\n",
    "w0 = Symbol('w0')"
   ]
  },
  {
   "cell_type": "code",
   "execution_count": 3,
   "id": "d3f61600",
   "metadata": {},
   "outputs": [],
   "source": [
    "Data = [(1, 2), (2, 3), (3, 4), (4, 5)]"
   ]
  },
  {
   "cell_type": "code",
   "execution_count": 5,
   "id": "50665324",
   "metadata": {},
   "outputs": [],
   "source": [
    "f_x = 0"
   ]
  },
  {
   "cell_type": "code",
   "execution_count": 6,
   "id": "449c6ce7",
   "metadata": {},
   "outputs": [
    {
     "name": "stdout",
     "output_type": "stream",
     "text": [
      "4*w0 + 10*w1 + 30*w2 (4*w0 + 10*w1 + 30*w2 - 5)**2\n"
     ]
    }
   ],
   "source": [
    "for x, y in Data:\n",
    "    f_x += w2*(x**2) + w1*x + w0 \n",
    "    error_x = (f_x - y) ** 2\n",
    "\n",
    "print(f_x, error_x)"
   ]
  },
  {
   "cell_type": "raw",
   "id": "7f9ec805",
   "metadata": {},
   "source": [
    "w0 + w1 + w2 (w0 + w1 + w2 - 2)**2\n",
    "w0 + 2*w1 + 4*w2 (w0 + 2*w1 + 4*w2 - 3)**2\n",
    "w0 + 3*w1 + 9*w2 (w0 + 3*w1 + 9*w2 - 4)**2\n",
    "w0 + 4*w1 + 16*w2 (w0 + 4*w1 + 16*w2 - 5)**2"
   ]
  },
  {
   "cell_type": "markdown",
   "id": "7a6ddd49",
   "metadata": {},
   "source": [
    "#### 방정식 전개하기 "
   ]
  },
  {
   "cell_type": "code",
   "execution_count": 10,
   "id": "2d482706",
   "metadata": {},
   "outputs": [
    {
     "data": {
      "text/latex": [
       "$\\displaystyle 16 w_{0}^{2} + 80 w_{0} w_{1} + 240 w_{0} w_{2} - 40 w_{0} + 100 w_{1}^{2} + 600 w_{1} w_{2} - 100 w_{1} + 900 w_{2}^{2} - 300 w_{2} + 25$"
      ],
      "text/plain": [
       "16*w0**2 + 80*w0*w1 + 240*w0*w2 - 40*w0 + 100*w1**2 + 600*w1*w2 - 100*w1 + 900*w2**2 - 300*w2 + 25"
      ]
     },
     "execution_count": 10,
     "metadata": {},
     "output_type": "execute_result"
    }
   ],
   "source": [
    "e_final = sympy.expand(error_x)\n",
    "\n",
    "e_final"
   ]
  },
  {
   "cell_type": "markdown",
   "id": "95610ff7",
   "metadata": {},
   "source": [
    "#### 항묶음"
   ]
  },
  {
   "cell_type": "code",
   "execution_count": 11,
   "id": "32db167b",
   "metadata": {
    "scrolled": true
   },
   "outputs": [
    {
     "data": {
      "text/latex": [
       "$\\displaystyle 16 w_{0}^{2} + w_{0} \\left(80 w_{1} + 240 w_{2} - 40\\right) + 100 w_{1}^{2} + 600 w_{1} w_{2} - 100 w_{1} + 900 w_{2}^{2} - 300 w_{2} + 25$"
      ],
      "text/plain": [
       "16*w0**2 + w0*(80*w1 + 240*w2 - 40) + 100*w1**2 + 600*w1*w2 - 100*w1 + 900*w2**2 - 300*w2 + 25"
      ]
     },
     "execution_count": 11,
     "metadata": {},
     "output_type": "execute_result"
    }
   ],
   "source": [
    "sympy.collect(e_final, w0)"
   ]
  },
  {
   "cell_type": "markdown",
   "id": "427564af",
   "metadata": {},
   "source": [
    "#### 계수 뽑아내기 "
   ]
  },
  {
   "cell_type": "code",
   "execution_count": 14,
   "id": "f626e0df",
   "metadata": {},
   "outputs": [
    {
     "data": {
      "text/latex": [
       "$\\displaystyle 80 w_{1} + 240 w_{2} - 40$"
      ],
      "text/plain": [
       "80*w1 + 240*w2 - 40"
      ]
     },
     "execution_count": 14,
     "metadata": {},
     "output_type": "execute_result"
    }
   ],
   "source": [
    "e_final.coeff(w0)"
   ]
  },
  {
   "cell_type": "markdown",
   "id": "20e0191f",
   "metadata": {},
   "source": [
    "#### 방정식 만들기 및 해 구하기 "
   ]
  },
  {
   "cell_type": "raw",
   "id": "167165d4",
   "metadata": {},
   "source": [
    "x**2 = 1 방정식 구현   -> https://seong6496.tistory.com/203 참고 "
   ]
  },
  {
   "cell_type": "code",
   "execution_count": 21,
   "id": "ee5ca8a3",
   "metadata": {},
   "outputs": [],
   "source": [
    "x = Symbol('x')"
   ]
  },
  {
   "cell_type": "code",
   "execution_count": 23,
   "id": "0bcbd4f7",
   "metadata": {},
   "outputs": [
    {
     "data": {
      "text/plain": [
       "[-1, 1]"
      ]
     },
     "execution_count": 23,
     "metadata": {},
     "output_type": "execute_result"
    }
   ],
   "source": [
    "a = sympy.Eq(x**2,1)\n",
    "\n",
    "sympy.solve(a)"
   ]
  },
  {
   "cell_type": "markdown",
   "id": "c622e13d",
   "metadata": {},
   "source": [
    "#### w0, w1, w2에 대한 편미분 구하기 "
   ]
  },
  {
   "cell_type": "code",
   "execution_count": 24,
   "id": "ad1f6dc7",
   "metadata": {},
   "outputs": [],
   "source": [
    "from sympy import diff"
   ]
  },
  {
   "cell_type": "code",
   "execution_count": 25,
   "id": "0e0051c0",
   "metadata": {},
   "outputs": [
    {
     "data": {
      "text/latex": [
       "$\\displaystyle 16 w_{0}^{2} + 80 w_{0} w_{1} + 240 w_{0} w_{2} - 40 w_{0} + 100 w_{1}^{2} + 600 w_{1} w_{2} - 100 w_{1} + 900 w_{2}^{2} - 300 w_{2} + 25$"
      ],
      "text/plain": [
       "16*w0**2 + 80*w0*w1 + 240*w0*w2 - 40*w0 + 100*w1**2 + 600*w1*w2 - 100*w1 + 900*w2**2 - 300*w2 + 25"
      ]
     },
     "execution_count": 25,
     "metadata": {},
     "output_type": "execute_result"
    }
   ],
   "source": [
    "e_final"
   ]
  },
  {
   "cell_type": "code",
   "execution_count": 28,
   "id": "b929a04a",
   "metadata": {},
   "outputs": [
    {
     "data": {
      "text/latex": [
       "$\\displaystyle 32 w_{0} + 80 w_{1} + 240 w_{2} - 40$"
      ],
      "text/plain": [
       "32*w0 + 80*w1 + 240*w2 - 40"
      ]
     },
     "execution_count": 28,
     "metadata": {},
     "output_type": "execute_result"
    }
   ],
   "source": [
    "# w0에 대한 편미분 \n",
    "dfdw0 = diff(e_final, w0)\n",
    "\n",
    "dfdw0"
   ]
  },
  {
   "cell_type": "code",
   "execution_count": 29,
   "id": "b53ba5c7",
   "metadata": {},
   "outputs": [
    {
     "data": {
      "text/latex": [
       "$\\displaystyle 80 w_{0} + 200 w_{1} + 600 w_{2} - 100$"
      ],
      "text/plain": [
       "80*w0 + 200*w1 + 600*w2 - 100"
      ]
     },
     "execution_count": 29,
     "metadata": {},
     "output_type": "execute_result"
    }
   ],
   "source": [
    "# w1에 대한 편미분\n",
    "dfdw1 = diff(e_final, w1)\n",
    "\n",
    "dfdw1"
   ]
  },
  {
   "cell_type": "code",
   "execution_count": 30,
   "id": "b881c00d",
   "metadata": {
    "scrolled": true
   },
   "outputs": [
    {
     "data": {
      "text/latex": [
       "$\\displaystyle 240 w_{0} + 600 w_{1} + 1800 w_{2} - 300$"
      ],
      "text/plain": [
       "240*w0 + 600*w1 + 1800*w2 - 300"
      ]
     },
     "execution_count": 30,
     "metadata": {},
     "output_type": "execute_result"
    }
   ],
   "source": [
    "# w2에 대한 편미분\n",
    "dfdw2 = diff(e_final, w2)\n",
    "\n",
    "dfdw2"
   ]
  }
 ],
 "metadata": {
  "kernelspec": {
   "display_name": "Python 3",
   "language": "python",
   "name": "python3"
  },
  "language_info": {
   "codemirror_mode": {
    "name": "ipython",
    "version": 3
   },
   "file_extension": ".py",
   "mimetype": "text/x-python",
   "name": "python",
   "nbconvert_exporter": "python",
   "pygments_lexer": "ipython3",
   "version": "3.6.9"
  }
 },
 "nbformat": 4,
 "nbformat_minor": 5
}
