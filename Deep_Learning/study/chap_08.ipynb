{
 "cells": [
  {
   "cell_type": "markdown",
   "id": "5ab9e5ee",
   "metadata": {},
   "source": [
    "### Kaggle에서 다운 받은 데이터 구조 변경 (data_setup.py)\n",
    "- https://www.kaggle.com/c/dogs-vs-cats/data"
   ]
  },
  {
   "cell_type": "raw",
   "id": "bb828eed",
   "metadata": {},
   "source": [
    "import os\n",
    "import shutil\n",
    "from pathlib import Path"
   ]
  },
  {
   "cell_type": "raw",
   "id": "2fcea525",
   "metadata": {},
   "source": [
    "def make_dir(dir):\n",
    "    try:\n",
    "        os.stat(dir)\n",
    "    except:\n",
    "        os.mkdir(dir)"
   ]
  },
  {
   "cell_type": "raw",
   "id": "9391dfd3",
   "metadata": {},
   "source": [
    "def setup_dirs(dest_dir, train_dir, val_dir, test_dir):\n",
    "    make_dir(dest_dir)  # data\n",
    "    for folder in [train_dir, val_dir, test_dir]:\n",
    "        make_dir(Path(dest_dir + folder))  # data/test\n",
    "        _ = [make_dir(Path(dest_dir + folder + x)) for x in [\"cat\", \"dog\"]]  # creates cat and dog directories under folder"
   ]
  },
  {
   "cell_type": "raw",
   "id": "dc26a4d9",
   "metadata": {},
   "source": [
    "def copy_data(train_range, val_range, test_range, source_dir, dest_dir, train_dir, val_dir, test_dir):\n",
    "    for a in [\"cat\", \"dog\"]:\n",
    "        ranges = [ train_range, val_range, test_range]\n",
    "        folders = [train_dir, val_dir, test_dir]\n",
    "        for r, f in zip(ranges, folders):\n",
    "            for i in r:\n",
    "                src = Path(source_dir + a + \".\" + str(i) + \".jpg\")\n",
    "                dst = Path(dest_dir + f + a + \"/\" + a + \".\" + str(i) + \".jpg\")\n",
    "                shutil.copyfile(src, dst)"
   ]
  },
  {
   "cell_type": "raw",
   "id": "613fafd0",
   "metadata": {},
   "source": [
    "dest_dir = \"data/\"\n",
    "source_dir = \"train/\"\n",
    "\n",
    "# append these directories to /data\n",
    "test_dir = \"test/\"\n",
    "val_dir = \"val/\"\n",
    "train_dir = \"train/\"\n",
    "    \n",
    "# test and val will be 10%\n",
    "test_range = range(11249, 12500)  \n",
    "val_range = range(10000, 11250)\n",
    "train_range = range(0, 10000)\n",
    "\n",
    "setup_dirs(dest_dir, train_dir, val_dir, test_dir)\n",
    "copy_data(train_range, val_range, test_range, source_dir, dest_dir, train_dir, val_dir, test_dir)"
   ]
  },
  {
   "cell_type": "code",
   "execution_count": 9,
   "id": "b1fa14ac",
   "metadata": {},
   "outputs": [],
   "source": [
    "import warnings\n",
    "\n",
    "warnings.filterwarnings(action='ignore') "
   ]
  },
  {
   "cell_type": "markdown",
   "id": "04bac87b",
   "metadata": {},
   "source": [
    "### 필요 라이브러리 Import "
   ]
  },
  {
   "cell_type": "code",
   "execution_count": 12,
   "id": "607e8493",
   "metadata": {},
   "outputs": [],
   "source": [
    "import numpy as np\n",
    "np.random.seed(42)\n",
    "import tensorflow as tf\n",
    "tf.set_random_seed(42)\n",
    "\n",
    "from tensorflow.keras.applications.inception_v3 import InceptionV3\n",
    "from tensorflow.keras.models import Model\n",
    "from tensorflow.keras.layers import Dense, GlobalAveragePooling2D\n",
    "from tensorflow.keras.callbacks import TensorBoard, EarlyStopping, CSVLogger, ModelCheckpoint\n",
    "from tensorflow.keras.preprocessing.image import ImageDataGenerator\n",
    "from tensorflow.keras.optimizers import SGD\n",
    "import os\n",
    "import argparse"
   ]
  },
  {
   "cell_type": "markdown",
   "id": "eeaf79ca",
   "metadata": {},
   "source": [
    "### 함수 정의"
   ]
  },
  {
   "cell_type": "code",
   "execution_count": 14,
   "id": "d76d87e4",
   "metadata": {},
   "outputs": [],
   "source": [
    "def build_model_feature_extraction():\n",
    "    base_model = InceptionV3(weights='imagenet', include_top=False)\n",
    "\n",
    "    x = base_model.output\n",
    "    x = GlobalAveragePooling2D()(x)\n",
    "    x = Dense(1024, activation='relu')(x)\n",
    "    predictions = Dense(1, activation='sigmoid')(x)\n",
    "\n",
    "    model = Model(inputs=base_model.input, outputs=predictions)\n",
    "\n",
    "    for layer in base_model.layers:\n",
    "        layer.trainable = False\n",
    "\n",
    "    model.compile(optimizer='rmsprop', loss='binary_crossentropy', metrics=['accuracy'])\n",
    "    \n",
    "    return model"
   ]
  },
  {
   "cell_type": "code",
   "execution_count": 17,
   "id": "a2d7af52",
   "metadata": {},
   "outputs": [],
   "source": [
    "def build_model_fine_tuning(model, learning_rate=0.0001, momentum=0.9):\n",
    "    for layer in model.layers[:249]:\n",
    "        layer.trainable = False\n",
    "    \n",
    "    for layer in model.layers[249:]:\n",
    "        layer.trainable = True\n",
    "    \n",
    "    model.compile(optimizer=SGD(lr=learning_rate, momentum=momentum), loss='binary_crossentropy', metrics=['accuracy'])\n",
    "    return model"
   ]
  },
  {
   "cell_type": "code",
   "execution_count": 18,
   "id": "1987314a",
   "metadata": {},
   "outputs": [],
   "source": [
    "def setup_data(train_data_dir, val_data_dir, img_width=299, img_height=299, batch_size=16):\n",
    "    train_datagen = ImageDataGenerator(rescale=1./255)\n",
    "    val_datagen = ImageDataGenerator(rescale=1./255)\n",
    "\n",
    "    train_generator = train_datagen.flow_from_directory(\n",
    "        train_data_dir,\n",
    "        target_size=(img_width, img_height),\n",
    "        batch_size=batch_size,\n",
    "        class_mode='binary')\n",
    "\n",
    "    validation_generator = val_datagen.flow_from_directory(\n",
    "        val_data_dir,\n",
    "        target_size=(img_width, img_height),\n",
    "        batch_size=batch_size,\n",
    "        class_mode='binary')\n",
    "    return train_generator, validation_generator"
   ]
  },
  {
   "cell_type": "markdown",
   "id": "5b890cb3",
   "metadata": {},
   "source": [
    "### 데이터 입력"
   ]
  },
  {
   "cell_type": "code",
   "execution_count": null,
   "id": "11dba8e2",
   "metadata": {},
   "outputs": [],
   "source": []
  },
  {
   "cell_type": "code",
   "execution_count": null,
   "id": "b477cdfd",
   "metadata": {},
   "outputs": [],
   "source": []
  }
 ],
 "metadata": {
  "kernelspec": {
   "display_name": "Python 3",
   "language": "python",
   "name": "python3"
  },
  "language_info": {
   "codemirror_mode": {
    "name": "ipython",
    "version": 3
   },
   "file_extension": ".py",
   "mimetype": "text/x-python",
   "name": "python",
   "nbconvert_exporter": "python",
   "pygments_lexer": "ipython3",
   "version": "3.6.9"
  }
 },
 "nbformat": 4,
 "nbformat_minor": 5
}
