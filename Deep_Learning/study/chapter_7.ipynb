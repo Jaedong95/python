{
 "cells": [
  {
   "cell_type": "code",
   "execution_count": 11,
   "id": "e79424ab",
   "metadata": {},
   "outputs": [],
   "source": [
    "from tensorflow.keras.utils import multi_gpu_model\n",
    "from tensorflow.keras.layers import Conv2D\n",
    "from tensorflow.keras.models import Model \n",
    "from tensorflow.keras.layers import MaxPooling2D\n",
    "from tensorflow.keras.layers import BatchNormalization\n",
    "from tensorflow.keras.layers import Flatten, Dense, Dropout, Input"
   ]
  },
  {
   "cell_type": "code",
   "execution_count": 20,
   "id": "c661f8c3",
   "metadata": {},
   "outputs": [],
   "source": [
    "def build_network(num_gpu=1, input_shape=None):\n",
    "    inputs = Input(shape=input_shape, name='input')\n",
    "\n",
    "    conv1 = Conv2D(64, kernel_size=(3, 3), activation='relu', name='conv_1')(inputs)\n",
    "    batch1 = BatchNormalization(name='batch_norm1')(conv1)\n",
    "    pool1 = MaxPooling2D(pool_size=(2, 2), name='pool_1')(batch1) \n",
    "    \n",
    "    conv2 = Conv2D(32, kernel_size=(3, 3), activation='relu', name='conv_2')(pool1)\n",
    "    batch2 = BatchNormalization(name='batch_norm2')(conv2)\n",
    "    pool2 = MaxPooling2D(pool_size=(2, 2), name='pool_2')(batch2)\n",
    "    \n",
    "    flatten = Flatten()(pool2)\n",
    "    fc1 = Dense(512, activation='relu', name='fc1')(flatten)\n",
    "    d1 = Dropout(rate=0.2, name='dropout1')(fc1) \n",
    "    fc2 = Dense(512, activation='relu', name='fc2')(d1)\n",
    "    d2 = Dropout(rate=0.2, name='dropout2')(fc2)\n",
    "    \n",
    "    output = Dense(10, activation='softmax', name='softmax')(d2)\n",
    "    \n",
    "    model = Model(inputs=inputs, outputs=output)\n",
    "\n",
    "    if num_gpu > 1:\n",
    "        model = multi_gpu_model(model, num_gpu)\n",
    "    \n",
    "    model.compile(optimizer='adam', loss='categorical_crossentropy', metrics=['accuracy'])\n",
    "    \n",
    "    return model "
   ]
  },
  {
   "cell_type": "code",
   "execution_count": 21,
   "id": "68796226",
   "metadata": {},
   "outputs": [],
   "source": [
    "IMG_HEIGHT = 64 \n",
    "IMG_WIDTH = 64\n",
    "CHANNELS = 3"
   ]
  },
  {
   "cell_type": "code",
   "execution_count": 22,
   "id": "973c70a3",
   "metadata": {},
   "outputs": [],
   "source": [
    "model = build_network(num_gpu=1, input_shape=(IMG_HEIGHT, IMG_WIDTH, CHANNELS))"
   ]
  },
  {
   "cell_type": "code",
   "execution_count": null,
   "id": "e5606f75",
   "metadata": {},
   "outputs": [],
   "source": []
  },
  {
   "cell_type": "code",
   "execution_count": null,
   "id": "e55d62a0",
   "metadata": {},
   "outputs": [],
   "source": []
  }
 ],
 "metadata": {
  "kernelspec": {
   "display_name": "Python 3",
   "language": "python",
   "name": "python3"
  },
  "language_info": {
   "codemirror_mode": {
    "name": "ipython",
    "version": 3
   },
   "file_extension": ".py",
   "mimetype": "text/x-python",
   "name": "python",
   "nbconvert_exporter": "python",
   "pygments_lexer": "ipython3",
   "version": "3.6.9"
  }
 },
 "nbformat": 4,
 "nbformat_minor": 5
}
