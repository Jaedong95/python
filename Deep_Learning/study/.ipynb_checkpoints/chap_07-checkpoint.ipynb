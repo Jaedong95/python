{
 "cells": [
  {
   "cell_type": "markdown",
   "id": "d54d5c27",
   "metadata": {},
   "source": [
    "### 필요 라이브러리 Import"
   ]
  },
  {
   "cell_type": "code",
   "execution_count": 11,
   "id": "28db42cd",
   "metadata": {},
   "outputs": [],
   "source": [
    "from tensorflow.keras.utils import multi_gpu_model\n",
    "from tensorflow.keras.layers import Conv2D\n",
    "from tensorflow.keras.models import Model \n",
    "from tensorflow.keras.layers import MaxPooling2D\n",
    "from tensorflow.keras.layers import BatchNormalization\n",
    "from tensorflow.keras.layers import Flatten, Dense, Dropout, Input"
   ]
  },
  {
   "cell_type": "markdown",
   "id": "14709263",
   "metadata": {},
   "source": [
    "### 필요 함수 정의"
   ]
  },
  {
   "cell_type": "code",
   "execution_count": 20,
   "id": "29b93d20",
   "metadata": {},
   "outputs": [],
   "source": [
    "def build_network(num_gpu=1, input_shape=None):\n",
    "    inputs = Input(shape=input_shape, name='input')\n",
    "\n",
    "    conv1 = Conv2D(64, kernel_size=(3, 3), activation='relu', name='conv_1')(inputs)\n",
    "    batch1 = BatchNormalization(name='batch_norm1')(conv1)\n",
    "    pool1 = MaxPooling2D(pool_size=(2, 2), name='pool_1')(batch1) \n",
    "    \n",
    "    conv2 = Conv2D(32, kernel_size=(3, 3), activation='relu', name='conv_2')(pool1)\n",
    "    batch2 = BatchNormalization(name='batch_norm2')(conv2)\n",
    "    pool2 = MaxPooling2D(pool_size=(2, 2), name='pool_2')(batch2)\n",
    "    \n",
    "    flatten = Flatten()(pool2)\n",
    "    fc1 = Dense(512, activation='relu', name='fc1')(flatten)\n",
    "    d1 = Dropout(rate=0.2, name='dropout1')(fc1) \n",
    "    fc2 = Dense(512, activation='relu', name='fc2')(d1)\n",
    "    d2 = Dropout(rate=0.2, name='dropout2')(fc2)\n",
    "    \n",
    "    output = Dense(10, activation='softmax', name='softmax')(d2)\n",
    "    \n",
    "    model = Model(inputs=inputs, outputs=output)\n",
    "\n",
    "    if num_gpu > 1:\n",
    "        model = multi_gpu_model(model, num_gpu)\n",
    "    \n",
    "    model.compile(optimizer='adam', loss='categorical_crossentropy', metrics=['accuracy'])\n",
    "    \n",
    "    return model "
   ]
  },
  {
   "cell_type": "code",
   "execution_count": 21,
   "id": "10530424",
   "metadata": {},
   "outputs": [],
   "source": [
    "IMG_HEIGHT = 64 \n",
    "IMG_WIDTH = 64\n",
    "CHANNELS = 3"
   ]
  },
  {
   "cell_type": "markdown",
   "id": "be150e23",
   "metadata": {},
   "source": [
    "### 모델 생성 "
   ]
  },
  {
   "cell_type": "code",
   "execution_count": 22,
   "id": "be5cef42",
   "metadata": {},
   "outputs": [],
   "source": [
    "model = build_network(num_gpu=1, input_shape=(IMG_HEIGHT, IMG_WIDTH, CHANNELS))"
   ]
  },
  {
   "cell_type": "code",
   "execution_count": null,
   "id": "0f2c5627",
   "metadata": {},
   "outputs": [],
   "source": [
    "model.fit(x=data['train_X'], y=data['train_y'], batch_size=32, epochs=200, validation_data=(data['val_X'], data['val_y']),\n",
    "          verbose=1, callbacks=callbacks)"
   ]
  },
  {
   "cell_type": "markdown",
   "id": "69538cb8",
   "metadata": {},
   "source": [
    "### 이미지 확대 (Image augmentation)"
   ]
  },
  {
   "cell_type": "code",
   "execution_count": 24,
   "id": "15177f7b",
   "metadata": {},
   "outputs": [],
   "source": [
    "from tensorflow.keras.preprocessing.image import ImageDataGenerator\n",
    "\n",
    "def create_datagen(train_X):\n",
    "    data_generator = ImageDataGenerator(rotation_range=20, width_shift_range=0.02, height_shift_range=0.02,\n",
    "                                        horizontal_flip=True)\n",
    "    data_generator.fit(train_X)\n",
    "\n",
    "    return data_generator"
   ]
  },
  {
   "cell_type": "code",
   "execution_count": 25,
   "id": "a5e901e4",
   "metadata": {},
   "outputs": [
    {
     "ename": "NameError",
     "evalue": "name 'data_generator' is not defined",
     "output_type": "error",
     "traceback": [
      "\u001b[0;31m---------------------------------------------------------------------------\u001b[0m",
      "\u001b[0;31mNameError\u001b[0m                                 Traceback (most recent call last)",
      "\u001b[0;32m<ipython-input-25-25858d9b5bb6>\u001b[0m in \u001b[0;36m<module>\u001b[0;34m\u001b[0m\n\u001b[0;32m----> 1\u001b[0;31m model.fit_generator(data_generator.flow(data['train_X'], data['train_y'], batch_size=32), \n\u001b[0m\u001b[1;32m      2\u001b[0m                     \u001b[0msteps_per_epoch\u001b[0m\u001b[0;34m=\u001b[0m\u001b[0mlen\u001b[0m\u001b[0;34m(\u001b[0m\u001b[0mdata\u001b[0m\u001b[0;34m[\u001b[0m\u001b[0;34m'train_X'\u001b[0m\u001b[0;34m]\u001b[0m\u001b[0;34m)\u001b[0m \u001b[0;34m//\u001b[0m \u001b[0;36m32\u001b[0m\u001b[0;34m,\u001b[0m \u001b[0mepochs\u001b[0m\u001b[0;34m=\u001b[0m\u001b[0;36m200\u001b[0m\u001b[0;34m,\u001b[0m   \u001b[0;31m# 32: image pixels\u001b[0m\u001b[0;34m\u001b[0m\u001b[0;34m\u001b[0m\u001b[0m\n\u001b[1;32m      3\u001b[0m \t\t      validation_data=(data['val_X'], data['val_y']), verbose=1, callbacks=callbacks)\n",
      "\u001b[0;31mNameError\u001b[0m: name 'data_generator' is not defined"
     ]
    }
   ],
   "source": [
    "model.fit_generator(data_generator.flow(data['train_X'], data['train_y'], batch_size=32), \n",
    "                    steps_per_epoch=len(data['train_X']) // 32, epochs=200,   # 32: image pixels \n",
    "                    validation_data=(data['val_X'], data['val_y']), verbose=1, callbacks=callbacks)"
   ]
  },
  {
   "cell_type": "code",
   "execution_count": null,
   "id": "14b86318",
   "metadata": {},
   "outputs": [],
   "source": []
  }
 ],
 "metadata": {
  "kernelspec": {
   "display_name": "Python 3",
   "language": "python",
   "name": "python3"
  },
  "language_info": {
   "codemirror_mode": {
    "name": "ipython",
    "version": 3
   },
   "file_extension": ".py",
   "mimetype": "text/x-python",
   "name": "python",
   "nbconvert_exporter": "python",
   "pygments_lexer": "ipython3",
   "version": "3.6.9"
  }
 },
 "nbformat": 4,
 "nbformat_minor": 5
}
