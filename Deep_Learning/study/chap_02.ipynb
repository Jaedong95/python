{
 "cells": [
  {
   "cell_type": "markdown",
   "id": "3ac86086",
   "metadata": {},
   "source": [
    "#### Error 무시"
   ]
  },
  {
   "cell_type": "code",
   "execution_count": 11,
   "id": "d1198df2",
   "metadata": {},
   "outputs": [],
   "source": [
    "import warnings\n",
    "\n",
    "warnings.filterwarnings(action='ignore') "
   ]
  },
  {
   "cell_type": "markdown",
   "id": "3e765570",
   "metadata": {},
   "source": [
    "### 라이브러리 import "
   ]
  },
  {
   "cell_type": "code",
   "execution_count": 12,
   "id": "fb566129",
   "metadata": {},
   "outputs": [],
   "source": [
    "import pandas as pd\n",
    "from sklearn.preprocessing import StandardScaler\n",
    "import pandas as pd\n",
    "import tensorflow as tf "
   ]
  },
  {
   "cell_type": "markdown",
   "id": "18ec85cb",
   "metadata": {},
   "source": [
    "### 경로 설정 "
   ]
  },
  {
   "cell_type": "code",
   "execution_count": 15,
   "id": "dafcecab",
   "metadata": {},
   "outputs": [],
   "source": [
    "TRAIN_DATA = './data/train/train_data.csv'\n",
    "VAL_DATA = './data/val/val_data.csv'\n",
    "TEST_DATA = './data/test/test_data.csv'"
   ]
  },
  {
   "cell_type": "code",
   "execution_count": null,
   "id": "6cbc882f",
   "metadata": {},
   "outputs": [],
   "source": [
    "def load_data():\n",
    "    train = pd.read_cvs(TRAIN_DATA)\n",
    "    val = pd.read_csv(VAL_DATA)\n",
    "    test = pd.read_csv(TEST_DATA)\n",
    "    \n",
    "    scaler = StandardScaler()\n",
    "    "
   ]
  }
 ],
 "metadata": {
  "kernelspec": {
   "display_name": "Python 3",
   "language": "python",
   "name": "python3"
  },
  "language_info": {
   "codemirror_mode": {
    "name": "ipython",
    "version": 3
   },
   "file_extension": ".py",
   "mimetype": "text/x-python",
   "name": "python",
   "nbconvert_exporter": "python",
   "pygments_lexer": "ipython3",
   "version": "3.6.9"
  }
 },
 "nbformat": 4,
 "nbformat_minor": 5
}
