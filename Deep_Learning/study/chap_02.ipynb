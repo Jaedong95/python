{
 "cells": [
  {
   "cell_type": "markdown",
   "id": "75761d29",
   "metadata": {},
   "source": [
    "### 문제 정의\n",
    "- 백포도주의 열 가지 서로 다른 화학적 특성을 고려해 백포도주 데이터에 존재하는 알코올의 비율 예측 "
   ]
  },
  {
   "cell_type": "markdown",
   "id": "15665ad3",
   "metadata": {},
   "source": [
    "#### Error 무시"
   ]
  },
  {
   "cell_type": "code",
   "execution_count": 11,
   "id": "e00524ce",
   "metadata": {},
   "outputs": [],
   "source": [
    "import warnings\n",
    "\n",
    "warnings.filterwarnings(action='ignore') "
   ]
  },
  {
   "cell_type": "markdown",
   "id": "316a9b2c",
   "metadata": {},
   "source": [
    "### 라이브러리 import "
   ]
  },
  {
   "cell_type": "code",
   "execution_count": 12,
   "id": "7a44965d",
   "metadata": {},
   "outputs": [],
   "source": [
    "import pandas as pd\n",
    "from sklearn.preprocessing import StandardScaler\n",
    "import pandas as pd\n",
    "import tensorflow as tf "
   ]
  },
  {
   "cell_type": "markdown",
   "id": "1d71d694",
   "metadata": {},
   "source": [
    "### 경로 설정 "
   ]
  },
  {
   "cell_type": "code",
   "execution_count": 15,
   "id": "dafcecab",
   "metadata": {},
   "outputs": [],
   "source": [
    "TRAIN_DATA = './data/train/train_data.csv'\n",
    "VAL_DATA = './data/val/val_data.csv'\n",
    "TEST_DATA = './data/test/test_data.csv'"
   ]
  },
  {
   "cell_type": "code",
   "execution_count": 29,
   "id": "ebfefef7",
   "metadata": {},
   "outputs": [
    {
     "data": {
      "text/html": [
       "<div>\n",
       "<style scoped>\n",
       "    .dataframe tbody tr th:only-of-type {\n",
       "        vertical-align: middle;\n",
       "    }\n",
       "\n",
       "    .dataframe tbody tr th {\n",
       "        vertical-align: top;\n",
       "    }\n",
       "\n",
       "    .dataframe thead th {\n",
       "        text-align: right;\n",
       "    }\n",
       "</style>\n",
       "<table border=\"1\" class=\"dataframe\">\n",
       "  <thead>\n",
       "    <tr style=\"text-align: right;\">\n",
       "      <th></th>\n",
       "      <th>fixed acidity</th>\n",
       "      <th>volatile acidity</th>\n",
       "      <th>citric acid</th>\n",
       "      <th>residual sugar</th>\n",
       "      <th>chlorides</th>\n",
       "      <th>free sulfur dioxide</th>\n",
       "      <th>total sulfur dioxide</th>\n",
       "      <th>density</th>\n",
       "      <th>pH</th>\n",
       "      <th>sulphates</th>\n",
       "      <th>alcohol</th>\n",
       "      <th>quality</th>\n",
       "    </tr>\n",
       "  </thead>\n",
       "  <tbody>\n",
       "    <tr>\n",
       "      <th>0</th>\n",
       "      <td>5.6</td>\n",
       "      <td>0.46</td>\n",
       "      <td>0.24</td>\n",
       "      <td>4.8</td>\n",
       "      <td>0.042</td>\n",
       "      <td>24.0</td>\n",
       "      <td>72.0</td>\n",
       "      <td>0.99080</td>\n",
       "      <td>3.29</td>\n",
       "      <td>0.37</td>\n",
       "      <td>12.6</td>\n",
       "      <td>6</td>\n",
       "    </tr>\n",
       "    <tr>\n",
       "      <th>1</th>\n",
       "      <td>6.5</td>\n",
       "      <td>0.18</td>\n",
       "      <td>0.41</td>\n",
       "      <td>14.2</td>\n",
       "      <td>0.039</td>\n",
       "      <td>47.0</td>\n",
       "      <td>129.0</td>\n",
       "      <td>0.99678</td>\n",
       "      <td>3.28</td>\n",
       "      <td>0.72</td>\n",
       "      <td>10.3</td>\n",
       "      <td>7</td>\n",
       "    </tr>\n",
       "    <tr>\n",
       "      <th>2</th>\n",
       "      <td>6.0</td>\n",
       "      <td>0.26</td>\n",
       "      <td>0.32</td>\n",
       "      <td>3.5</td>\n",
       "      <td>0.028</td>\n",
       "      <td>29.0</td>\n",
       "      <td>113.0</td>\n",
       "      <td>0.99120</td>\n",
       "      <td>3.40</td>\n",
       "      <td>0.71</td>\n",
       "      <td>12.3</td>\n",
       "      <td>7</td>\n",
       "    </tr>\n",
       "    <tr>\n",
       "      <th>3</th>\n",
       "      <td>7.4</td>\n",
       "      <td>0.18</td>\n",
       "      <td>0.40</td>\n",
       "      <td>1.6</td>\n",
       "      <td>0.047</td>\n",
       "      <td>22.0</td>\n",
       "      <td>102.0</td>\n",
       "      <td>0.99370</td>\n",
       "      <td>3.28</td>\n",
       "      <td>0.44</td>\n",
       "      <td>10.7</td>\n",
       "      <td>5</td>\n",
       "    </tr>\n",
       "    <tr>\n",
       "      <th>4</th>\n",
       "      <td>7.6</td>\n",
       "      <td>0.18</td>\n",
       "      <td>0.28</td>\n",
       "      <td>7.1</td>\n",
       "      <td>0.041</td>\n",
       "      <td>29.0</td>\n",
       "      <td>110.0</td>\n",
       "      <td>0.99652</td>\n",
       "      <td>3.20</td>\n",
       "      <td>0.42</td>\n",
       "      <td>9.2</td>\n",
       "      <td>6</td>\n",
       "    </tr>\n",
       "  </tbody>\n",
       "</table>\n",
       "</div>"
      ],
      "text/plain": [
       "   fixed acidity  volatile acidity  citric acid  residual sugar  chlorides  \\\n",
       "0            5.6              0.46         0.24             4.8      0.042   \n",
       "1            6.5              0.18         0.41            14.2      0.039   \n",
       "2            6.0              0.26         0.32             3.5      0.028   \n",
       "3            7.4              0.18         0.40             1.6      0.047   \n",
       "4            7.6              0.18         0.28             7.1      0.041   \n",
       "\n",
       "   free sulfur dioxide  total sulfur dioxide  density    pH  sulphates  \\\n",
       "0                 24.0                  72.0  0.99080  3.29       0.37   \n",
       "1                 47.0                 129.0  0.99678  3.28       0.72   \n",
       "2                 29.0                 113.0  0.99120  3.40       0.71   \n",
       "3                 22.0                 102.0  0.99370  3.28       0.44   \n",
       "4                 29.0                 110.0  0.99652  3.20       0.42   \n",
       "\n",
       "   alcohol  quality  \n",
       "0     12.6        6  \n",
       "1     10.3        7  \n",
       "2     12.3        7  \n",
       "3     10.7        5  \n",
       "4      9.2        6  "
      ]
     },
     "execution_count": 29,
     "metadata": {},
     "output_type": "execute_result"
    }
   ],
   "source": [
    "train = pd.read_csv(TRAIN_DATA)\n",
    "\n",
    "train.head()"
   ]
  },
  {
   "cell_type": "code",
   "execution_count": 28,
   "id": "33371a32",
   "metadata": {},
   "outputs": [
    {
     "data": {
      "text/plain": [
       "[0, 1]"
      ]
     },
     "execution_count": 28,
     "metadata": {},
     "output_type": "execute_result"
    }
   ],
   "source": [
    "train"
   ]
  },
  {
   "cell_type": "code",
   "execution_count": 31,
   "id": "2d76f1fc",
   "metadata": {},
   "outputs": [],
   "source": [
    "def load_data():\n",
    "    train = pd.read_csv(TRAIN_DATA)\n",
    "    val = pd.read_csv(VAL_DATA)\n",
    "    test = pd.read_csv(TEST_DATA)\n",
    "    \n",
    "    scaler = StandardScaler()\n",
    "    train = scaler.fit_transform(train)\n",
    "    val = sclaer.fit_transform(val)\n",
    "    test = scaler.fit_transform(test)\n",
    "    \n",
    "    data = dict()\n",
    "    data['train_y'] = train[:, 10]\n",
    "    data['train_x'] = train[:, 0:9]\n",
    "    data['val_y'] = val[:, 10]\n",
    "    data['val_x'] = val[:, 0:9]\n",
    "    data['test_y'] = test[:, 10]\n",
    "    data['test_x'] = test[:, 0:9] \n",
    "    \n",
    "    # scaler를 유지함으로써 예측을 다시 원래 크기로 복원할 수 있도록 함 \n",
    "    data['scaler'] = scaler \n",
    "    \n",
    "    return data "
   ]
  },
  {
   "cell_type": "code",
   "execution_count": null,
   "id": "e9ba0fca",
   "metadata": {},
   "outputs": [],
   "source": []
  }
 ],
 "metadata": {
  "kernelspec": {
   "display_name": "Python 3",
   "language": "python",
   "name": "python3"
  },
  "language_info": {
   "codemirror_mode": {
    "name": "ipython",
    "version": 3
   },
   "file_extension": ".py",
   "mimetype": "text/x-python",
   "name": "python",
   "nbconvert_exporter": "python",
   "pygments_lexer": "ipython3",
   "version": "3.6.9"
  }
 },
 "nbformat": 4,
 "nbformat_minor": 5
}
